{
 "cells": [
  {
   "cell_type": "markdown",
   "id": "6aaecf20",
   "metadata": {},
   "source": [
    "IRIS FlOWER CLASSIFICATION "
   ]
  },
  {
   "cell_type": "code",
   "execution_count": null,
   "id": "c02ddfc7",
   "metadata": {},
   "outputs": [],
   "source": []
  }
 ],
 "metadata": {
  "language_info": {
   "name": "python"
  }
 },
 "nbformat": 4,
 "nbformat_minor": 5
}
